{
 "cells": [
  {
   "cell_type": "code",
   "execution_count": null,
   "id": "4b6546a8-f779-4217-b4bb-d4883303af37",
   "metadata": {},
   "outputs": [],
   "source": [
    "import numpy as np\n",
    "import pandas as pd\n",
    "import psycopg\n",
    "from sqlalchemy import create_engine, text\n",
    "import dotenv\n",
    "import os\n",
    "import sqlite3\n",
    "import mysql.connector\n",
    "import pymongo\n"
   ]
  },
  {
   "cell_type": "code",
   "execution_count": null,
   "id": "a547cf7f-a8cd-49d1-8875-5becb4aad50e",
   "metadata": {
    "scrolled": true
   },
   "outputs": [],
   "source": [
    "dotenv.load_dotenv(\"C:\\\\Users\\\\qaism\\\\OneDrive - University of Virginia\\\\Documents\\\\GitHub\\\\MSDS\\\\ds6001databases\\\\.env\")\n",
    "postgres_password = os.getenv('POSTGRES_PASSWORD')\n",
    "csv_path = \"C:\\\\Users\\\\qaism\\\\OneDrive - University of Virginia\\\\Documents\\\\GitHub\\\\MSDS\\\\ds6001databases\\\\ASA All NBA Raw Data.csv\"\n",
    "\n",
    "nba = pd.read_csv(csv_path, low_memory=False)"
   ]
  },
  {
   "cell_type": "code",
   "execution_count": null,
   "id": "ba53f03a-b429-40bd-8015-b7d507f66511",
   "metadata": {},
   "outputs": [],
   "source": [
    "pd.set_option('display.max_rows', 81)\n",
    "nba.head(3).T"
   ]
  },
  {
   "cell_type": "markdown",
   "id": "e648164d-5433-4c61-b63a-628e7cbaac7c",
   "metadata": {},
   "source": [
    "## Database Normalization\n",
    "### First normal form:\n",
    "\n",
    "1. **All tables must have a primary key**: In this table, `game_id` and `player_id` together are unique on every row, and so they form primary key.\n",
    "\n",
    "2. **All the data must be atomic**: Inactives is non-atomic.\n",
    "\n",
    "3. **No repeating groups problem**: We can't solve the non-atomicity problem by creating separate columns if this leads to arbitrary ordering language in the column names (for example, `Inactive1`, `Inactive2`, etc.) and if it leads to a lot of missing data (there would be an `Inactive7` which would be missing any time a team has less than 7 inactive players)."
   ]
  },
  {
   "cell_type": "code",
   "execution_count": null,
   "id": "ef99115b",
   "metadata": {},
   "outputs": [],
   "source": [
    "nba = nba.drop(['Inactives'], axis=1)\n",
    "games = nba[['game_id', 'game_date', 'OT', 'season']].drop_duplicates()\n",
    "players = nba[['player_id', 'player']].drop_duplicates()\n",
    "nba = nba.drop(['game_date', 'OT', 'season', 'player'], axis=1)\n",
    "nba.head()"
   ]
  },
  {
   "cell_type": "markdown",
   "id": "b45adf1e-17e8-4f17-be87-9eeea24426be",
   "metadata": {},
   "source": [
    "### Functional Dependence\n",
    "Let X and Y be columns in a data table. Y is functionally dependent on X if each value of X has exactly one value of Y.\n",
    "\n",
    "That's pretty abstract. So here are some guidelines that help me:\n",
    "\n",
    "1. This use of \"function\" is the exact same as the concept of a function from algebra and pre-calculus. A correspondence f(x)=y is a function if each value of x has only one associated value of y.\n",
    "\n",
    "2. X is either a primary key, or something that should be a primary key in another table.\n",
    "\n",
    "For example, `game_date` (Y) is functionally dependent on `game_id` (X) because one `game_id` takes place on exactly one date.\n",
    "\n",
    "### Second normal form:\n",
    "In this table the primary key is a superkey consisting of two columns: `game_id` and `player_id`. \n",
    "\n",
    "2NF is violated if any columns are functionally dependent on part of the primary key but not the entire primary key. This can only happen if the primary key is a superkey."
   ]
  },
  {
   "cell_type": "code",
   "execution_count": null,
   "id": "6001689f",
   "metadata": {},
   "outputs": [],
   "source": [
    "team_game = nba[['game_id', 'Team_Abbrev', 'H_A', 'Team_Score', 'Team_pace', 'Team_efg_pct', \n",
    "                 'Team_tov_pct', 'Team_orb_pct', 'Team_ft_rate', 'Team_off_rtg', 'Opponent_Abbrev']].drop_duplicates()\n",
    "\n",
    "player_game = nba.drop(['Team_Abbrev', 'H_A', 'Team_Score', 'Team_pace', 'Team_efg_pct', \n",
    "                        'Team_tov_pct', 'Team_orb_pct', 'Team_ft_rate', 'Team_off_rtg', 'Opponent_Abbrev', \n",
    "                        'Opponent_Score', 'Opponent_pace', 'Opponent_efg_pct', 'Opponent_tov_pct', \n",
    "                        'Opponent_orb_pct', 'Opponent_ft_rate', 'Opponent_off_rtg'], axis=1)\n"
   ]
  },
  {
   "cell_type": "code",
   "execution_count": null,
   "id": "2b202cba",
   "metadata": {},
   "outputs": [],
   "source": [
    "player_game.columns = [x.lower().replace('%', '_pct') for x in player_game.columns]\n",
    "team_game.columns = [x.lower().replace('%', '_pct') for x in team_game.columns]\n",
    "players.columns = [x.lower().replace('%', '_pct') for x in players.columns]\n",
    "games.columns = [x.lower().replace('%', '_pct') for x in games.columns]"
   ]
  },
  {
   "cell_type": "markdown",
   "id": "fcae511d-6ad2-4fe0-934d-3dd7710ac895",
   "metadata": {},
   "source": [
    "### Third normal form:\n",
    "3NF is violated if there are \"transitive dependencies\", that is, functional dependence between columns when neither column is part of the primary key."
   ]
  },
  {
   "cell_type": "code",
   "execution_count": null,
   "id": "c84db01c",
   "metadata": {},
   "outputs": [],
   "source": [
    "dbms = 'postgresql'\n",
    "connector = 'psycopg2'\n",
    "user = 'postgres'\n",
    "password = postgres_password\n",
    "host = 'localhost'\n",
    "port = '5432'\n",
    "database = 'nba'\n",
    "\n"
   ]
  },
  {
   "cell_type": "code",
   "execution_count": null,
   "id": "2ff8500e",
   "metadata": {},
   "outputs": [],
   "source": [
    "engine_string = f'{dbms}+{connector}://{user}:{password}@{host}:{port}/postgres'\n",
    "engine = create_engine(engine_string)\n",
    "with engine.connect() as conn:\n",
    "    conn.execute(text(\"COMMIT\"))\n",
    "    conn.execute(text(f\"CREATE DATABASE {database}\"))\n",
    "    conn.execute(text(\"COMMIT\"))\n",
    "\n",
    "# Update engine string to use the nba database\n",
    "engine_string = f'{dbms}+{connector}://{user}:{password}@{host}:{port}/{database}'\n",
    "engine = create_engine(engine_string)"
   ]
  },
  {
   "cell_type": "code",
   "execution_count": null,
   "id": "c0bb2927",
   "metadata": {},
   "outputs": [],
   "source": [
    "player_game.to_sql('player_game', con=engine, chunksize=1000, if_exists='replace', index=False)\n",
    "team_game.to_sql('team_game', con=engine, chunksize=1000, if_exists='replace', index=False)\n",
    "players.to_sql('players', con=engine, chunksize=1000, if_exists='replace', index=False)\n",
    "games.to_sql('games', con=engine, chunksize=1000, if_exists='replace', index=False)\n",
    "\n"
   ]
  },
  {
   "cell_type": "code",
   "execution_count": null,
   "id": "a8113177",
   "metadata": {},
   "outputs": [],
   "source": [
    "myquery = 'SELECT * FROM games'\n",
    "print(pd.read_sql_query(myquery, con=engine).head())"
   ]
  }
 ],
 "metadata": {
  "kernelspec": {
   "display_name": "Python 3 (ipykernel)",
   "language": "python",
   "name": "python3"
  },
  "language_info": {
   "codemirror_mode": {
    "name": "ipython",
    "version": 3
   },
   "file_extension": ".py",
   "mimetype": "text/x-python",
   "name": "python",
   "nbconvert_exporter": "python",
   "pygments_lexer": "ipython3",
   "version": "3.11.9"
  }
 },
 "nbformat": 4,
 "nbformat_minor": 5
}
