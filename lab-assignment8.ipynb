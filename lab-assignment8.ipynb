{
 "cells": [
  {
   "cell_type": "markdown",
   "metadata": {},
   "source": [
    "# Lab Assignment 8: Data Management Using `pandas`, Part 1\n",
    "## DS 6001: Practice and Application of Data Science\n",
    "\n",
    "### Instructions\n",
    "Please answer the following questions as completely as possible using text, code, and the results of code as needed. Format your answers in a Jupyter notebook. To receive full credit, make sure you address every part of the problem, and make sure your document is formatted in a clean and professional way.\n",
    "\n",
    "In this lab, you will be working with the [2017 Workplace Health in America survey](https://www.cdc.gov/workplacehealthpromotion/survey/data.html) which was conducted by the Centers for Disease Control and Prevention. According to the survey's [guidence document](https://www.cdc.gov/workplacehealthpromotion/data-surveillance/docs/2017-WHA-Guidance-Document-for-Use-of-Public-Data-files-508.pdf):\n",
    "\n",
    "> The Workplace Health in America (WHA) Survey gathered information from a cross-sectional, nationally representative sample of US worksites. The sample was drawn from the Dun & Bradstreet (D&B) database of all private and public employers in the United States with at least 10 employees. Like previous national surveys, the worksite served as the sampling unit rather than the companies or firms to which the worksites belonged. Worksites were selected using a stratified simple random sample (SRS) design, where the primary strata were ten multi-state regions defined by the Centers for Disease Control and Prevention (CDC), plus an additional stratum containing all hospital worksites. \n",
    "\n",
    "The data contain over 300 features that report the industry and type of company where the respondents are employed, what kind of health insurance and other health programs are offered, and other characteristics of the workplaces including whether employees are allowed to work from home and the gender and age makeup of the workforce. The data are full of interesting information, but in order to make use of the data a great deal of data manipulation is required first."
   ]
  },
  {
   "cell_type": "markdown",
   "metadata": {},
   "source": [
    "## Problem 0\n",
    "Import the following libraries:"
   ]
  },
  {
   "cell_type": "code",
   "execution_count": 1,
   "metadata": {},
   "outputs": [],
   "source": [
    "import numpy as np\n",
    "import pandas as pd\n",
    "import sidetable\n",
    "import sqlite3\n",
    "import warnings\n",
    "import requests\n",
    "import io\n",
    "from io import StringIO\n",
    "warnings.filterwarnings('ignore')"
   ]
  },
  {
   "cell_type": "markdown",
   "metadata": {},
   "source": [
    "## Problem 1\n",
    "The raw data are stored in an ASCII file on the 2017 Workplace Health in America survey [homepage](https://www.cdc.gov/workplacehealthpromotion/survey/data.html). Load the raw data directly into Python without downloading the data onto your harddrive and display a dataframe with only the 14th, 28th, and 102nd rows of the data. [1 point]"
   ]
  },
  {
   "cell_type": "code",
   "execution_count": 2,
   "metadata": {},
   "outputs": [
    {
     "name": "stdout",
     "output_type": "stream",
     "text": [
      "    OC1  OC3  HI1  HI2  HI3  HI4  HRA1  HRA1A  HRA1B  HRA1E  ...  WL3_05  \\\n",
      "13    3  1.0  2.0  3.0  2.0  1.0   1.0    3.0    3.0    1.0  ...     NaN   \n",
      "27    1  3.0  1.0  3.0  1.0  1.0   1.0    2.0    4.0    2.0  ...     NaN   \n",
      "101   2  1.0  1.0  3.0  2.0  1.0   1.0    2.0    4.0    2.0  ...     NaN   \n",
      "\n",
      "     E1_09  Suppquex       Id  Region  CDC_Region  Industry  Size  Varstrata  \\\n",
      "13     NaN       1.0   1437.0     4.0         6.0       7.0   3.0        0.0   \n",
      "27     NaN       1.0   2501.0     2.0         4.0       7.0   8.0        0.0   \n",
      "101    NaN       2.0  12636.0     4.0         6.0       7.0   4.0        0.0   \n",
      "\n",
      "     Finalwt_worksite,,,,  \n",
      "13       47.793940929,,,,  \n",
      "27       47.793940929,,,,  \n",
      "101      47.793940929,,,,  \n",
      "\n",
      "[3 rows x 301 columns]\n"
     ]
    }
   ],
   "source": [
    "url = 'https://www.cdc.gov/workplacehealthpromotion/data-surveillance/docs/whpps_120717.csv'\n",
    "response = requests.get(url)\n",
    "data = response.text\n",
    "\n",
    "df_io = io.StringIO(data)\n",
    "data_df = pd.read_csv(df_io, delimiter='~')\n",
    "selected_rows = data_df.iloc[[13, 27, 101]]\n",
    "print(selected_rows)"
   ]
  },
  {
   "cell_type": "markdown",
   "metadata": {},
   "source": [
    "## Problem 2 \n",
    "The data contain 301 columns. Create a new variable in Python's memory to store a working version of the data. In the working version, delete all of the columns except for the following:\n",
    "\n",
    "* `Industry`: 7 Industry Categories with NAICS codes\n",
    "\n",
    "* `Size`: 8 Employee Size Categories\n",
    "\n",
    "* `OC3` Is your organization for profit, non-profit, government?\n",
    "\n",
    "* `HI1` In general, do you offer full, partial or no payment of premiums for personal health insurance for full-time employees?\n",
    "\n",
    "* `HI2` Over the past 12 months, were full-time employees asked to pay a larger proportion, smaller proportion or the same proportion of personal health insurance premiums?\n",
    "\n",
    "* `HI3`: Does your organization offer personal health insurance for your part-time employees?\n",
    "\n",
    "* `CP1`: Are there health education programs, which focus on skill development and lifestyle behavior change along with information dissemination and awareness building?\n",
    "\n",
    "* `WL6`: Allow employees to work from home?\n",
    "\n",
    "* Every column that begins `WD`, expressing the percentage of employees that have certain characteristics at the firm\n",
    "\n",
    "[1 point]"
   ]
  },
  {
   "cell_type": "code",
   "execution_count": 4,
   "metadata": {},
   "outputs": [
    {
     "name": "stdout",
     "output_type": "stream",
     "text": [
      "   Industry  Size  OC3  HI1  HI2  HI3  CP1  WL6  WD1_1  WD1_2    WD2    WD3  \\\n",
      "0       7.0   7.0  3.0  2.0  1.0  2.0  1.0  1.0   25.0   20.0   85.0   60.0   \n",
      "1       7.0   6.0  3.0  2.0  3.0  1.0  1.0  1.0  997.0  997.0   90.0   90.0   \n",
      "2       7.0   8.0  3.0  1.0  3.0  1.0  1.0  1.0   35.0    4.0  997.0  997.0   \n",
      "3       7.0   4.0  2.0  1.0  2.0  1.0  2.0  2.0   50.0   15.0   50.0   85.0   \n",
      "4       7.0   4.0  3.0  1.0  3.0  1.0  1.0  1.0   50.0   40.0   60.0   60.0   \n",
      "\n",
      "     WD4    WD5    WD6    WD7  \n",
      "0   40.0   15.0    0.0   22.0  \n",
      "1  997.0  997.0    0.0  997.0  \n",
      "2   40.0   15.0  997.0  997.0  \n",
      "3   75.0    0.0    0.0  997.0  \n",
      "4   40.0   30.0    0.0   28.0  \n"
     ]
    }
   ],
   "source": [
    "column_keep = [\n",
    "    'Industry', 'Size', 'OC3', 'HI1', 'HI2', 'HI3', 'CP1', 'WL6'\n",
    "]\n",
    "\n",
    "column_keep.extend([col for col in data_df.columns if col.startswith('WD')])\n",
    "\n",
    "wk_data = data_df[column_keep]\n",
    "print(wk_data.head())\n"
   ]
  },
  {
   "cell_type": "markdown",
   "metadata": {},
   "source": [
    "## Problem 3\n",
    "The [codebook](https://www.cdc.gov/workplacehealthpromotion/data-surveillance/docs/2017-WHA-Datafile-Codebook-508.pdf) for the WHA data contain short descriptions of the meaning of each of the columns in the data. Use these descriptions to decide on better and more intuitive names for the columns in the working version of the data, and rename the columns accordingly. [1 point]"
   ]
  },
  {
   "cell_type": "code",
   "execution_count": 5,
   "metadata": {},
   "outputs": [
    {
     "name": "stdout",
     "output_type": "stream",
     "text": [
      "   Industry  Size  Organization_Type  Insurance_Type  Insurance_Payment  \\\n",
      "0       7.0   7.0                3.0             2.0                1.0   \n",
      "1       7.0   6.0                3.0             2.0                3.0   \n",
      "2       7.0   8.0                3.0             1.0                3.0   \n",
      "3       7.0   4.0                2.0             1.0                2.0   \n",
      "4       7.0   4.0                3.0             1.0                3.0   \n",
      "\n",
      "   Part_Time_Insurance  Health_Education_Programs  Work_From_Home  \\\n",
      "0                  2.0                        1.0             1.0   \n",
      "1                  1.0                        1.0             1.0   \n",
      "2                  1.0                        1.0             1.0   \n",
      "3                  1.0                        2.0             2.0   \n",
      "4                  1.0                        1.0             1.0   \n",
      "\n",
      "   Percentage_Under_30  Percentage_60_and_Above  Percentage_Female_Workers  \\\n",
      "0                 25.0                     20.0                       85.0   \n",
      "1                997.0                    997.0                       90.0   \n",
      "2                 35.0                      4.0                      997.0   \n",
      "3                 50.0                     15.0                       50.0   \n",
      "4                 50.0                     40.0                       60.0   \n",
      "\n",
      "   Percentage_Hourly_Workers  Percentage_Non_Daytime_Workers  \\\n",
      "0                       60.0                            40.0   \n",
      "1                       90.0                           997.0   \n",
      "2                      997.0                            40.0   \n",
      "3                       85.0                            75.0   \n",
      "4                       60.0                            40.0   \n",
      "\n",
      "   Percentage_Remote_Workers  Percentage_Union_Workers  \\\n",
      "0                       15.0                       0.0   \n",
      "1                      997.0                       0.0   \n",
      "2                       15.0                     997.0   \n",
      "3                        0.0                       0.0   \n",
      "4                       30.0                       0.0   \n",
      "\n",
      "   Annual_Employee_Turnover  \n",
      "0                      22.0  \n",
      "1                     997.0  \n",
      "2                     997.0  \n",
      "3                     997.0  \n",
      "4                      28.0  \n"
     ]
    }
   ],
   "source": [
    "column_rename = {\n",
    "    'OC3': 'Organization_Type',\n",
    "    'HI1': 'Insurance_Type',\n",
    "    'HI2': 'Insurance_Payment',\n",
    "    'HI3': 'Part_Time_Insurance',\n",
    "    'CP1': 'Health_Education_Programs',\n",
    "    'WL6': 'Work_From_Home',\n",
    "    'WD1_1': 'Percentage_Under_30',\n",
    "    'WD1_2': 'Percentage_60_and_Above',\n",
    "    'WD2': 'Percentage_Female_Workers',\n",
    "    'WD3': 'Percentage_Hourly_Workers',\n",
    "    'WD4': 'Percentage_Non_Daytime_Workers',\n",
    "    'WD5': 'Percentage_Remote_Workers',\n",
    "    'WD6': 'Percentage_Union_Workers',\n",
    "    'WD7': 'Annual_Employee_Turnover'\n",
    "}\n",
    "wk_data.rename(columns=column_rename, inplace=True)\n",
    "print(wk_data.head())"
   ]
  },
  {
   "cell_type": "markdown",
   "metadata": {},
   "source": [
    "## Problem 4\n",
    "Using the codebook and this [dictionary of NAICS industrial codes](https://www.naics.com/search-naics-codes-by-industry/), place descriptive labels on the categories of the industry column in the working data. [1 point]"
   ]
  },
  {
   "cell_type": "code",
   "execution_count": 8,
   "metadata": {},
   "outputs": [
    {
     "name": "stdout",
     "output_type": "stream",
     "text": [
      "                                            Industry  Size  Organization_Type  \\\n",
      "0  General Medical and Surgical Hospitals; Psychi...   7.0                3.0   \n",
      "1  General Medical and Surgical Hospitals; Psychi...   6.0                3.0   \n",
      "2  General Medical and Surgical Hospitals; Psychi...   8.0                3.0   \n",
      "3  General Medical and Surgical Hospitals; Psychi...   4.0                2.0   \n",
      "4  General Medical and Surgical Hospitals; Psychi...   4.0                3.0   \n",
      "\n",
      "   Insurance_Type  Insurance_Payment  Part_Time_Insurance  \\\n",
      "0             2.0                1.0                  2.0   \n",
      "1             2.0                3.0                  1.0   \n",
      "2             1.0                3.0                  1.0   \n",
      "3             1.0                2.0                  1.0   \n",
      "4             1.0                3.0                  1.0   \n",
      "\n",
      "   Health_Education_Programs  Work_From_Home  Percentage_Under_30  \\\n",
      "0                        1.0             1.0                 25.0   \n",
      "1                        1.0             1.0                997.0   \n",
      "2                        1.0             1.0                 35.0   \n",
      "3                        2.0             2.0                 50.0   \n",
      "4                        1.0             1.0                 50.0   \n",
      "\n",
      "   Percentage_60_and_Above  Percentage_Female_Workers  \\\n",
      "0                     20.0                       85.0   \n",
      "1                    997.0                       90.0   \n",
      "2                      4.0                      997.0   \n",
      "3                     15.0                       50.0   \n",
      "4                     40.0                       60.0   \n",
      "\n",
      "   Percentage_Hourly_Workers  Percentage_Non_Daytime_Workers  \\\n",
      "0                       60.0                            40.0   \n",
      "1                       90.0                           997.0   \n",
      "2                      997.0                            40.0   \n",
      "3                       85.0                            75.0   \n",
      "4                       60.0                            40.0   \n",
      "\n",
      "   Percentage_Remote_Workers  Percentage_Union_Workers  \\\n",
      "0                       15.0                       0.0   \n",
      "1                      997.0                       0.0   \n",
      "2                       15.0                     997.0   \n",
      "3                        0.0                       0.0   \n",
      "4                       30.0                       0.0   \n",
      "\n",
      "   Annual_Employee_Turnover  \n",
      "0                      22.0  \n",
      "1                     997.0  \n",
      "2                     997.0  \n",
      "3                     997.0  \n",
      "4                      28.0  \n"
     ]
    }
   ],
   "source": [
    "naics_map = {\n",
    "    1: 'Agriculture, Forestry, Fishing and Hunting; Mining; Utilities; Construction; Manufacturing',\n",
    "    2: 'Wholesale Trade; Retail Trade; Transportation and Warehousing',\n",
    "    3: 'Arts, Entertainment, and Recreation; Accommodation and Food Services; Other Services',\n",
    "    4: 'Information; Finance and Insurance; Real Estate Rental and Leasing; Professional, Scientific, and Technical Services; Management of Companies and Enterprises; Administrative and Support and Waste Management Services',\n",
    "    5: 'Educational Services; Health Care and Social Assistance',\n",
    "    6: 'Public Administration',\n",
    "    7: 'General Medical and Surgical Hospitals; Psychiatric and Substance Abuse Hospitals; Specialty Hospitals',\n",
    "    np.nan: np.nan\n",
    "}\n",
    "\n",
    "wk_data['Industry'] = wk_data['Industry'].map(naics_map)\n",
    "print(wk_data.head())\n"
   ]
  },
  {
   "cell_type": "markdown",
   "metadata": {},
   "source": [
    "## Problem 5\n",
    "Using the codebook, recode the \"size\" column to have three categories: \"Small\" for workplaces with fewer than 100 employees, \"Medium\" for workplaces with at least 100 but fewer than 500 employees, and \"Large\" for companies with at least 500 employees. [Note: Python dataframes have an attribute `.size` that reports the space the dataframe takes up in memory. Don't confuse this attribute with the column named \"Size\" in the raw data.] [1 point]"
   ]
  },
  {
   "cell_type": "code",
   "execution_count": 9,
   "metadata": {},
   "outputs": [
    {
     "name": "stdout",
     "output_type": "stream",
     "text": [
      "                                            Industry    Size  \\\n",
      "0  General Medical and Surgical Hospitals; Psychi...   Large   \n",
      "1  General Medical and Surgical Hospitals; Psychi...   Large   \n",
      "2  General Medical and Surgical Hospitals; Psychi...   Large   \n",
      "3  General Medical and Surgical Hospitals; Psychi...  Medium   \n",
      "4  General Medical and Surgical Hospitals; Psychi...  Medium   \n",
      "\n",
      "   Organization_Type  Insurance_Type  Insurance_Payment  Part_Time_Insurance  \\\n",
      "0                3.0             2.0                1.0                  2.0   \n",
      "1                3.0             2.0                3.0                  1.0   \n",
      "2                3.0             1.0                3.0                  1.0   \n",
      "3                2.0             1.0                2.0                  1.0   \n",
      "4                3.0             1.0                3.0                  1.0   \n",
      "\n",
      "   Health_Education_Programs  Work_From_Home  Percentage_Under_30  \\\n",
      "0                        1.0             1.0                 25.0   \n",
      "1                        1.0             1.0                997.0   \n",
      "2                        1.0             1.0                 35.0   \n",
      "3                        2.0             2.0                 50.0   \n",
      "4                        1.0             1.0                 50.0   \n",
      "\n",
      "   Percentage_60_and_Above  Percentage_Female_Workers  \\\n",
      "0                     20.0                       85.0   \n",
      "1                    997.0                       90.0   \n",
      "2                      4.0                      997.0   \n",
      "3                     15.0                       50.0   \n",
      "4                     40.0                       60.0   \n",
      "\n",
      "   Percentage_Hourly_Workers  Percentage_Non_Daytime_Workers  \\\n",
      "0                       60.0                            40.0   \n",
      "1                       90.0                           997.0   \n",
      "2                      997.0                            40.0   \n",
      "3                       85.0                            75.0   \n",
      "4                       60.0                            40.0   \n",
      "\n",
      "   Percentage_Remote_Workers  Percentage_Union_Workers  \\\n",
      "0                       15.0                       0.0   \n",
      "1                      997.0                       0.0   \n",
      "2                       15.0                     997.0   \n",
      "3                        0.0                       0.0   \n",
      "4                       30.0                       0.0   \n",
      "\n",
      "   Annual_Employee_Turnover  \n",
      "0                      22.0  \n",
      "1                     997.0  \n",
      "2                     997.0  \n",
      "3                     997.0  \n",
      "4                      28.0  \n"
     ]
    }
   ],
   "source": [
    "def recode_size(size):\n",
    "    if size in [1, 2, 3]:\n",
    "        return 'Small'\n",
    "    elif size in [4, 5]:\n",
    "        return 'Medium'\n",
    "    elif size in [6, 7, 8]:\n",
    "        return 'Large'\n",
    "    else:\n",
    "        return np.nan\n",
    "\n",
    "# Apply recoding to the Size column\n",
    "wk_data['Size'] = wk_data['Size'].apply(recode_size)\n",
    "\n",
    "print(wk_data.head())"
   ]
  },
  {
   "cell_type": "markdown",
   "metadata": {},
   "source": [
    "## Problem 6\n",
    "Use the codebook to write accurate and descriptive labels for each category for each categorical column in the working data. Then apply all of these labels to the data at once. Code \"Legitimate Skip\", \"Don't know\", \"Refused\", and \"Blank\" as missing values. [2 points]"
   ]
  },
  {
   "cell_type": "code",
   "execution_count": 10,
   "metadata": {},
   "outputs": [],
   "source": [
    "column_rename = {\n",
    "    'Industry': 'Industry_Sectors',\n",
    "    'OC3': 'Organization_Type',\n",
    "    'HI1': 'Insurance_Type',\n",
    "    'HI2': 'Insurance_Payment',\n",
    "    'HI3': 'Part_Time_Insurance',\n",
    "    'CP1': 'Health_Education_Programs',\n",
    "    'WL6': 'Work_From_Home',\n",
    "    'WD1_1': 'Percentage_Under_30',\n",
    "    'WD1_2': 'Percentage_60_and_Above',\n",
    "    'WD2': 'Percentage_Female_Workers',\n",
    "    'WD3': 'Percentage_Hourly_Workers',\n",
    "    'WD4': 'Percentage_Non_Daytime_Workers',\n",
    "    'WD5': 'Percentage_Remote_Workers',\n",
    "    'WD6': 'Percentage_Union_Workers',\n",
    "    'WD7': 'Annual_Employee_Turnover'\n",
    "}\n",
    "wk_data.rename(columns=column_rename, inplace=True)\n"
   ]
  },
  {
   "cell_type": "code",
   "execution_count": 11,
   "metadata": {},
   "outputs": [
    {
     "name": "stdout",
     "output_type": "stream",
     "text": [
      "                                    Industry_Sectors    Size  \\\n",
      "0  General Medical and Surgical Hospitals; Psychi...   Large   \n",
      "1  General Medical and Surgical Hospitals; Psychi...   Large   \n",
      "2  General Medical and Surgical Hospitals; Psychi...   Large   \n",
      "3  General Medical and Surgical Hospitals; Psychi...  Medium   \n",
      "4  General Medical and Surgical Hospitals; Psychi...  Medium   \n",
      "\n",
      "     Organization_Type                      Insurance_Type Insurance_Payment  \\\n",
      "0           Non-profit  Partial insurance coverage offered            Larger   \n",
      "1           Non-profit  Partial insurance coverage offered    About the same   \n",
      "2           Non-profit     Full insurance coverage offered    About the same   \n",
      "3  For profit, private     Full insurance coverage offered           Smaller   \n",
      "4           Non-profit     Full insurance coverage offered    About the same   \n",
      "\n",
      "  Part_Time_Insurance Health_Education_Programs Work_From_Home  \\\n",
      "0                  No                       Yes            Yes   \n",
      "1                 Yes                       Yes            Yes   \n",
      "2                 Yes                       Yes            Yes   \n",
      "3                 Yes                        No             No   \n",
      "4                 Yes                       Yes            Yes   \n",
      "\n",
      "   Percentage_Under_30  Percentage_60_and_Above  Percentage_Female_Workers  \\\n",
      "0                 25.0                     20.0                       85.0   \n",
      "1                997.0                    997.0                       90.0   \n",
      "2                 35.0                      4.0                      997.0   \n",
      "3                 50.0                     15.0                       50.0   \n",
      "4                 50.0                     40.0                       60.0   \n",
      "\n",
      "   Percentage_Hourly_Workers  Percentage_Non_Daytime_Workers  \\\n",
      "0                       60.0                            40.0   \n",
      "1                       90.0                           997.0   \n",
      "2                      997.0                            40.0   \n",
      "3                       85.0                            75.0   \n",
      "4                       60.0                            40.0   \n",
      "\n",
      "   Percentage_Remote_Workers  Percentage_Union_Workers  \\\n",
      "0                       15.0                       0.0   \n",
      "1                      997.0                       0.0   \n",
      "2                       15.0                     997.0   \n",
      "3                        0.0                       0.0   \n",
      "4                       30.0                       0.0   \n",
      "\n",
      "   Annual_Employee_Turnover  \n",
      "0                      22.0  \n",
      "1                     997.0  \n",
      "2                     997.0  \n",
      "3                     997.0  \n",
      "4                      28.0  \n"
     ]
    }
   ],
   "source": [
    "categorical_mapping = {\n",
    "    'Organization_Type': {\n",
    "        1: 'For profit, public',\n",
    "        2: 'For profit, private',\n",
    "        3: 'Non-profit',\n",
    "        4: 'State or local government',\n",
    "        5: 'Federal government',\n",
    "        6: 'Other'\n",
    "    },\n",
    "    'Insurance_Type': {\n",
    "        1: 'Full insurance coverage offered',\n",
    "        2: 'Partial insurance coverage offered',\n",
    "        3: 'No insurance coverage offered'\n",
    "    },\n",
    "    'Insurance_Payment': {\n",
    "        1: 'Larger',\n",
    "        2: 'Smaller',\n",
    "        3: 'About the same'\n",
    "    },\n",
    "    'Part_Time_Insurance': {\n",
    "        1: 'Yes',\n",
    "        2: 'No'\n",
    "    },\n",
    "    'Health_Education_Programs': {\n",
    "        1: 'Yes',\n",
    "        2: 'No'\n",
    "    },\n",
    "    'Work_From_Home': {\n",
    "        1: 'Yes',\n",
    "        2: 'No'\n",
    "    }\n",
    "}\n",
    "\n",
    "for column, mapping in categorical_mapping.items():\n",
    "    wk_data[column] = wk_data[column].map(mapping)\n",
    "\n",
    "wk_data.replace(['Legitimate Skip', \"Don't know\", 'Refused', 'Blank'], np.nan, inplace=True)\n",
    "\n",
    "print(wk_data.head())          "
   ]
  },
  {
   "cell_type": "markdown",
   "metadata": {},
   "source": [
    "## Problem 7\n",
    "The features that measure the percent of the workforce with a particular characteristic use the codes 997, 998, and 999 to represent \"Don't know\", \"Refusal\", and \"Blank/Invalid\" respectively. Replace these values with missing values for all of the percentage features at the same time. [1 point]"
   ]
  },
  {
   "cell_type": "code",
   "execution_count": 12,
   "metadata": {},
   "outputs": [],
   "source": [
    "pct_features = [col for col in wk_data.columns if col.startswith('Percentage') or col.startswith('Annual')]\n",
    "\n",
    "\n",
    "wk_data[pct_features] = wk_data[pct_features].replace([997, 998, 999], np.nan)\n"
   ]
  },
  {
   "cell_type": "markdown",
   "metadata": {},
   "source": [
    "## Problem 8\n",
    "Sort the working data by industry in ascending alphabetical order. Within industry categories, sort the rows by size in ascending alphabetical order. Within groups with the same industry and size, sort by percent of the workforce that is under 30 in descending numeric order. [1 point]"
   ]
  },
  {
   "cell_type": "code",
   "execution_count": 13,
   "metadata": {},
   "outputs": [],
   "source": [
    "wk_data.sort_values(by=['Industry_Sectors', 'Size', 'Percentage_Under_30'], ascending=[True, True, False], inplace=True)"
   ]
  },
  {
   "cell_type": "markdown",
   "metadata": {},
   "source": [
    "## Problem 9\n",
    "There is one row in the working data that has a `NaN` value for industry. Delete this row. Use a logical expression, and not the row number. [1 point]"
   ]
  },
  {
   "cell_type": "code",
   "execution_count": 14,
   "metadata": {},
   "outputs": [
    {
     "name": "stdout",
     "output_type": "stream",
     "text": [
      "                                       Industry_Sectors   Size  \\\n",
      "1732  Agriculture, Forestry, Fishing and Hunting; Mi...  Large   \n",
      "1476  Agriculture, Forestry, Fishing and Hunting; Mi...  Large   \n",
      "1477  Agriculture, Forestry, Fishing and Hunting; Mi...  Large   \n",
      "704   Agriculture, Forestry, Fishing and Hunting; Mi...  Large   \n",
      "1241  Agriculture, Forestry, Fishing and Hunting; Mi...  Large   \n",
      "\n",
      "        Organization_Type                      Insurance_Type  \\\n",
      "1732  For profit, private  Partial insurance coverage offered   \n",
      "1476  For profit, private  Partial insurance coverage offered   \n",
      "1477  For profit, private  Partial insurance coverage offered   \n",
      "704   For profit, private     Full insurance coverage offered   \n",
      "1241  For profit, private     Full insurance coverage offered   \n",
      "\n",
      "     Insurance_Payment Part_Time_Insurance Health_Education_Programs  \\\n",
      "1732    About the same                  No                       Yes   \n",
      "1476    About the same                  No                       Yes   \n",
      "1477           Smaller                  No                       Yes   \n",
      "704     About the same                  No                       Yes   \n",
      "1241    About the same                  No                       Yes   \n",
      "\n",
      "     Work_From_Home  Percentage_Under_30  Percentage_60_and_Above  \\\n",
      "1732             No                 50.0                     10.0   \n",
      "1476             No                 40.0                     10.0   \n",
      "1477            Yes                 25.0                     15.0   \n",
      "704             Yes                 20.0                     15.0   \n",
      "1241            Yes                 20.0                     25.0   \n",
      "\n",
      "      Percentage_Female_Workers  Percentage_Hourly_Workers  \\\n",
      "1732                       50.0                       75.0   \n",
      "1476                       30.0                       60.0   \n",
      "1477                       20.0                       60.0   \n",
      "704                        17.0                       62.0   \n",
      "1241                       50.0                       70.0   \n",
      "\n",
      "      Percentage_Non_Daytime_Workers  Percentage_Remote_Workers  \\\n",
      "1732                            10.0                        0.0   \n",
      "1476                            30.0                        5.0   \n",
      "1477                            10.0                        2.0   \n",
      "704                             10.0                        5.0   \n",
      "1241                            20.0                        5.0   \n",
      "\n",
      "      Percentage_Union_Workers  Annual_Employee_Turnover  \n",
      "1732                       0.0                      75.0  \n",
      "1476                       0.0                      10.0  \n",
      "1477                      60.0                       5.0  \n",
      "704                        0.0                      11.0  \n",
      "1241                       0.0                       3.0  \n"
     ]
    }
   ],
   "source": [
    "wk_data = wk_data[wk_data['Industry_Sectors'].notna()]\n",
    "print(wk_data.head())\n"
   ]
  },
  {
   "cell_type": "markdown",
   "metadata": {},
   "source": [
    "## Problem 10\n",
    "Create a new feature named `gender_balance` that has three categories: \"Mostly men\" for workplaces with between 0% and 35% female employees, \"Balanced\" for workplaces with more than 35% and at most 65% female employees, and \"Mostly women\" for workplaces with more than 65% female employees. [1 point]"
   ]
  },
  {
   "cell_type": "code",
   "execution_count": 15,
   "metadata": {},
   "outputs": [],
   "source": [
    "def gender_balance(pct_female):\n",
    "    if pct_female <= 35:\n",
    "        return 'Mostly men'\n",
    "    elif 35 < pct_female <= 65:\n",
    "        return 'Balanced'\n",
    "    elif pct_female > 65:\n",
    "        return 'Mostly women'\n",
    "    else:\n",
    "        return np.nan\n",
    "\n",
    "wk_data['Gender_Balance'] = wk_data['Percentage_Female_Workers'].apply(gender_balance)\n"
   ]
  },
  {
   "cell_type": "markdown",
   "metadata": {},
   "source": [
    "## Problem 11\n",
    "Change the data type of all categorical features in the working data from \"object\" to \"category\". [1 point]"
   ]
  },
  {
   "cell_type": "code",
   "execution_count": 16,
   "metadata": {},
   "outputs": [],
   "source": [
    "categorical_features = ['Organization_Type', 'Insurance_Type', 'Insurance_Payment', 'Part_Time_Insurance', 'Health_Education_Programs', 'Work_From_Home', 'Gender_Balance']\n",
    "for col in categorical_features:\n",
    "    wk_data[col] = wk_data[col].astype('category')"
   ]
  },
  {
   "cell_type": "markdown",
   "metadata": {},
   "source": [
    "## Problem 12\n",
    "Filter the data to only those rows that represent small workplaces that allow employees to work from home. Then report how many of these workplaces offer full insurance, partial insurance, and no insurance. Use a function that reports the percent, cumulative count, and cumulative percent in addition to the counts. [1 point]"
   ]
  },
  {
   "cell_type": "code",
   "execution_count": 17,
   "metadata": {},
   "outputs": [
    {
     "name": "stdout",
     "output_type": "stream",
     "text": [
      "Insurance Type Distribution in Small Workplaces that Allow Work From Home:\n",
      "                       Insurance_Type  Count    Percent  Cumulative_Count  \\\n",
      "0     Full insurance coverage offered    324  46.285714               324   \n",
      "1  Partial insurance coverage offered    310  44.285714               634   \n",
      "2       No insurance coverage offered     66   9.428571               700   \n",
      "\n",
      "   Cumulative_Percent  \n",
      "0           46.285714  \n",
      "1           90.571429  \n",
      "2          100.000000  \n"
     ]
    }
   ],
   "source": [
    "filtered_df = wk_data[(wk_data['Size'] == 'Small') & (wk_data['Work_From_Home'] == 'Yes')]\n",
    "insurance_counts = filtered_df['Insurance_Type'].value_counts().reset_index()\n",
    "insurance_counts.columns = ['Insurance_Type', 'Count']\n",
    "insurance_counts['Percent'] = (insurance_counts['Count'] / insurance_counts['Count'].sum()) * 100\n",
    "insurance_counts['Cumulative_Count'] = insurance_counts['Count'].cumsum()\n",
    "insurance_counts['Cumulative_Percent'] = insurance_counts['Percent'].cumsum()\n",
    "\n",
    "print(\"Insurance Type Distribution in Small Workplaces that Allow Work From Home:\")\n",
    "print(insurance_counts)"
   ]
  },
  {
   "cell_type": "markdown",
   "metadata": {},
   "source": [
    "## Problem 13\n",
    "Anything that can be done in SQL can be done with `pandas`. The next several questions ask you to write `pandas` code to match a given SQL query. But to check that the SQL query and `pandas` code yield the same result, create a new database wsing the `sqlite3` package and input the cleaned WHA data as a table in this database. (See module 6 for a discussion of SQlite in Python.) [1 point]"
   ]
  },
  {
   "cell_type": "code",
   "execution_count": 18,
   "metadata": {},
   "outputs": [
    {
     "name": "stdout",
     "output_type": "stream",
     "text": [
      "                                    Industry_Sectors   Size  \\\n",
      "0  Agriculture, Forestry, Fishing and Hunting; Mi...  Large   \n",
      "1  Agriculture, Forestry, Fishing and Hunting; Mi...  Large   \n",
      "2  Agriculture, Forestry, Fishing and Hunting; Mi...  Large   \n",
      "3  Agriculture, Forestry, Fishing and Hunting; Mi...  Large   \n",
      "4  Agriculture, Forestry, Fishing and Hunting; Mi...  Large   \n",
      "\n",
      "     Organization_Type                      Insurance_Type Insurance_Payment  \\\n",
      "0  For profit, private  Partial insurance coverage offered    About the same   \n",
      "1  For profit, private  Partial insurance coverage offered    About the same   \n",
      "2  For profit, private  Partial insurance coverage offered           Smaller   \n",
      "3  For profit, private     Full insurance coverage offered    About the same   \n",
      "4  For profit, private     Full insurance coverage offered    About the same   \n",
      "\n",
      "  Part_Time_Insurance Health_Education_Programs Work_From_Home  \\\n",
      "0                  No                       Yes             No   \n",
      "1                  No                       Yes             No   \n",
      "2                  No                       Yes            Yes   \n",
      "3                  No                       Yes            Yes   \n",
      "4                  No                       Yes            Yes   \n",
      "\n",
      "   Percentage_Under_30  Percentage_60_and_Above  Percentage_Female_Workers  \\\n",
      "0                 50.0                     10.0                       50.0   \n",
      "1                 40.0                     10.0                       30.0   \n",
      "2                 25.0                     15.0                       20.0   \n",
      "3                 20.0                     15.0                       17.0   \n",
      "4                 20.0                     25.0                       50.0   \n",
      "\n",
      "   Percentage_Hourly_Workers  Percentage_Non_Daytime_Workers  \\\n",
      "0                       75.0                            10.0   \n",
      "1                       60.0                            30.0   \n",
      "2                       60.0                            10.0   \n",
      "3                       62.0                            10.0   \n",
      "4                       70.0                            20.0   \n",
      "\n",
      "   Percentage_Remote_Workers  Percentage_Union_Workers  \\\n",
      "0                        0.0                       0.0   \n",
      "1                        5.0                       0.0   \n",
      "2                        2.0                      60.0   \n",
      "3                        5.0                       0.0   \n",
      "4                        5.0                       0.0   \n",
      "\n",
      "   Annual_Employee_Turnover Gender_Balance  \n",
      "0                      75.0       Balanced  \n",
      "1                      10.0     Mostly men  \n",
      "2                       5.0     Mostly men  \n",
      "3                      11.0     Mostly men  \n",
      "4                       3.0       Balanced  \n"
     ]
    }
   ],
   "source": [
    "db_path = \"C:\\\\Users\\\\qaism\\\\OneDrive - University of Virginia\\\\Documents\\\\GitHub\\\\MSDS\\\\ds6001databases\\\\wha_data.db\"\n",
    "conn = sqlite3.connect(db_path)\n",
    "\n",
    "wk_data.to_sql('wha_cleaned', conn, if_exists='replace', index=False)\n",
    "conn.close()\n",
    "\n",
    "conn = sqlite3.connect(db_path)\n",
    "query = \"SELECT * FROM wha_cleaned LIMIT 5;\"\n",
    "result = pd.read_sql(query, conn)\n",
    "print(result)\n",
    "conn.close()"
   ]
  },
  {
   "cell_type": "markdown",
   "metadata": {},
   "source": [
    "## Problem 14\n",
    "Write `pandas` code that replicates the output of the following SQL code:\n",
    "```\n",
    "SELECT size, type, premiums AS insurance, percent_female FROM whpps\n",
    "WHERE industry = 'Hospitals' AND premium_change='Smaller'\n",
    "ORDER BY percent_female DESC;\n",
    "```\n",
    "For each of these queries, your feature names might be different from the ones listed in the query, depending on the names you chose in problem 3.\n",
    "[2 points]"
   ]
  },
  {
   "cell_type": "code",
   "execution_count": 19,
   "metadata": {},
   "outputs": [
    {
     "name": "stdout",
     "output_type": "stream",
     "text": [
      "       Size    Organization_Type                           insurance  \\\n",
      "320  Medium           Non-profit     Full insurance coverage offered   \n",
      "187   Large           Non-profit  Partial insurance coverage offered   \n",
      "214   Large           Non-profit  Partial insurance coverage offered   \n",
      "229   Small           Non-profit     Full insurance coverage offered   \n",
      "191  Medium           Non-profit  Partial insurance coverage offered   \n",
      "3    Medium  For profit, private     Full insurance coverage offered   \n",
      "97    Large           Non-profit  Partial insurance coverage offered   \n",
      "75   Medium           Non-profit     Full insurance coverage offered   \n",
      "11   Medium                  NaN  Partial insurance coverage offered   \n",
      "48   Medium           Non-profit  Partial insurance coverage offered   \n",
      "51   Medium           Non-profit     Full insurance coverage offered   \n",
      "\n",
      "     percent_female  \n",
      "320            89.0  \n",
      "187            80.0  \n",
      "214            80.0  \n",
      "229            75.0  \n",
      "191            65.0  \n",
      "3              50.0  \n",
      "97              NaN  \n",
      "75              NaN  \n",
      "11              NaN  \n",
      "48              NaN  \n",
      "51              NaN  \n"
     ]
    }
   ],
   "source": [
    "result = wk_data[\n",
    "    (wk_data['Industry_Sectors'] == 'General Medical and Surgical Hospitals; Psychiatric and Substance Abuse Hospitals; Specialty Hospitals') &\n",
    "    (wk_data['Insurance_Payment'] == 'Smaller')\n",
    "][['Size', 'Organization_Type', 'Insurance_Type', 'Percentage_Female_Workers']].sort_values(by='Percentage_Female_Workers', ascending=False)\n",
    "\n",
    "\n",
    "result.rename(columns={\n",
    "    'Insurance_Type': 'insurance',\n",
    "    'Percentage_Female_Workers': 'percent_female'\n",
    "}, inplace=True)\n",
    "\n",
    "print(result)\n"
   ]
  },
  {
   "cell_type": "markdown",
   "metadata": {},
   "source": [
    "## Problem 15\n",
    "Write `pandas` code that replicates the output of the following SQL code:\n",
    "```\n",
    "SELECT industry, \n",
    "    AVG(percent_female) as percent_female, \n",
    "    AVG(percent_under30) as percent_under30,\n",
    "    AVG(percent_over60) as percent_over60\n",
    "FROM whpps\n",
    "GROUP BY industry\n",
    "ORDER BY percent_female DESC;\n",
    "```\n",
    "[2 points]"
   ]
  },
  {
   "cell_type": "code",
   "execution_count": 20,
   "metadata": {},
   "outputs": [
    {
     "name": "stdout",
     "output_type": "stream",
     "text": [
      "                                    Industry_Sectors  percent_female  \\\n",
      "2  Educational Services; Health Care and Social A...       80.657143   \n",
      "3  General Medical and Surgical Hospitals; Psychi...       76.427027   \n",
      "1  Arts, Entertainment, and Recreation; Accommoda...       53.804416   \n",
      "4  Information; Finance and Insurance; Real Estat...       50.632184   \n",
      "5                              Public Administration       39.056738   \n",
      "6  Wholesale Trade; Retail Trade; Transportation ...       32.657258   \n",
      "0  Agriculture, Forestry, Fishing and Hunting; Mi...       20.328605   \n",
      "\n",
      "   percent_under30  percent_over60  \n",
      "2        25.745665       11.349570  \n",
      "3        27.213793       16.489655  \n",
      "1        38.566343       11.544872  \n",
      "4        23.821752       12.465465  \n",
      "5        21.015625       15.015385  \n",
      "6        29.108696       12.584034  \n",
      "0        22.257143       10.690355  \n"
     ]
    }
   ],
   "source": [
    "result = wk_data.groupby('Industry_Sectors').agg({\n",
    "    'Percentage_Female_Workers': 'mean',\n",
    "    'Percentage_Under_30': 'mean',\n",
    "    'Percentage_60_and_Above': 'mean'\n",
    "}).reset_index()\n",
    "\n",
    "result.rename(columns={\n",
    "    'Percentage_Female_Workers': 'percent_female',\n",
    "    'Percentage_Under_30': 'percent_under30',\n",
    "    'Percentage_60_and_Above': 'percent_over60'\n",
    "}, inplace=True)\n",
    "\n",
    "result.sort_values(by='percent_female', ascending=False, inplace=True)\n",
    "\n",
    "print(result)"
   ]
  },
  {
   "cell_type": "markdown",
   "metadata": {},
   "source": [
    "## Problem 16\n",
    "Write `pandas` code that replicates the output of the following SQL code:\n",
    "```\n",
    "SELECT gender_balance, premiums, COUNT(*)\n",
    "FROM whpps\n",
    "GROUP BY gender_balance, premiums\n",
    "HAVING gender_balance is NOT NULL and premiums is NOT NULL;\n",
    "```\n",
    "[2 points]"
   ]
  },
  {
   "cell_type": "code",
   "execution_count": 21,
   "metadata": {},
   "outputs": [
    {
     "name": "stdout",
     "output_type": "stream",
     "text": [
      "  Gender_Balance                      Insurance_Type  count\n",
      "0       Balanced     Full insurance coverage offered    226\n",
      "1       Balanced       No insurance coverage offered     77\n",
      "2       Balanced  Partial insurance coverage offered    271\n",
      "3     Mostly men     Full insurance coverage offered    301\n",
      "4     Mostly men       No insurance coverage offered     91\n",
      "5     Mostly men  Partial insurance coverage offered    332\n",
      "6   Mostly women     Full insurance coverage offered    267\n",
      "7   Mostly women       No insurance coverage offered    107\n",
      "8   Mostly women  Partial insurance coverage offered    333\n"
     ]
    }
   ],
   "source": [
    "result = wk_data.groupby(['Gender_Balance', 'Insurance_Type']).size().reset_index(name='count')\n",
    "result = result.dropna(subset=['Gender_Balance', 'Insurance_Type'])\n",
    "\n",
    "print(result)\n"
   ]
  }
 ],
 "metadata": {
  "kernelspec": {
   "display_name": "Python 3",
   "language": "python",
   "name": "python3"
  },
  "language_info": {
   "codemirror_mode": {
    "name": "ipython",
    "version": 3
   },
   "file_extension": ".py",
   "mimetype": "text/x-python",
   "name": "python",
   "nbconvert_exporter": "python",
   "pygments_lexer": "ipython3",
   "version": "3.11.9"
  }
 },
 "nbformat": 4,
 "nbformat_minor": 4
}
