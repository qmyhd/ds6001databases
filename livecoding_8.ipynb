{
 "cells": [
  {
   "cell_type": "code",
   "execution_count": 10,
   "metadata": {},
   "outputs": [],
   "source": [
    "import numpy as np\n",
    "import pandas as pd\n"
   ]
  },
  {
   "cell_type": "code",
   "execution_count": 11,
   "metadata": {},
   "outputs": [],
   "source": [
    "csv_path = \"C:/Users/qaism/OneDrive - University of Virginia/Documents/GitHub/MSDS/ds6001databases/data1k.csv\"\n",
    "df = pd.read_csv(csv_path)"
   ]
  },
  {
   "cell_type": "code",
   "execution_count": 12,
   "metadata": {},
   "outputs": [
    {
     "name": "stdout",
     "output_type": "stream",
     "text": [
      "   CodeSection  count\n",
      "0   B.46.2-301    268\n",
      "1   A.46.2-862    253\n",
      "2     46.2-300    177\n",
      "3   C.46.2-862    123\n",
      "4   18.2-250.1     96\n",
      "5      18.2-95     71\n",
      "6   A.18.2-266     68\n",
      "7      18.2-57     68\n",
      "8   A.46.2-852     62\n",
      "9     18.2-250     58\n",
      "10     18.2-96     53\n",
      "11  A.46.2-853     51\n",
      "12  A.46.2-707     48\n",
      "13    18.2-388     45\n",
      "14    18.2-172     44\n"
     ]
    }
   ],
   "source": [
    "# Most frequent code sections\n",
    "codes_freq = df['CodeSection'].value_counts().reset_index()\n",
    "codes_freq.columns = ['CodeSection', 'count']\n",
    "print(codes_freq.head(15))\n"
   ]
  },
  {
   "cell_type": "code",
   "execution_count": 13,
   "metadata": {},
   "outputs": [
    {
     "name": "stdout",
     "output_type": "stream",
     "text": [
      "    CodeSection      mean  count\n",
      "303  A.18.2-266  0.852941     68\n",
      "63     18.2-248  0.707317     41\n",
      "154     18.2-91  0.684211     38\n",
      "334  C.46.2-862  0.666667    123\n",
      "325  B.46.2-301  0.634328    268\n",
      "317  A.46.2-862  0.628458    253\n",
      "313  A.46.2-853  0.607843     51\n",
      "312  A.46.2-852  0.596774     62\n",
      "157     18.2-95  0.577465     71\n",
      "163    19.2-128  0.566667     30\n",
      "69     18.2-250  0.551724     58\n",
      "158     18.2-96  0.547170     53\n",
      "70   18.2-250.1  0.500000     96\n",
      "242    46.2-300  0.468927    177\n",
      "48     18.2-172  0.409091     44\n",
      "310  A.46.2-707  0.375000     48\n",
      "114    18.2-388  0.355556     45\n",
      "36     18.2-119  0.300000     30\n",
      "136     18.2-57  0.294118     68\n",
      "166    19.2-306  0.121951     41\n"
     ]
    }
   ],
   "source": [
    "# Conviction rates by code section\n",
    "df['convicted'] = df['DispositionCode'].isin(['Guilty', 'Guilty In Abstentia'])\n",
    "conv_rates = df.groupby('CodeSection')['convicted'].agg(['mean', 'count']).reset_index()\n",
    "conv_rates = conv_rates[conv_rates['count'] >= 30].sort_values('mean', ascending=False)\n",
    "print(conv_rates)"
   ]
  },
  {
   "cell_type": "code",
   "execution_count": 14,
   "metadata": {},
   "outputs": [
    {
     "name": "stdout",
     "output_type": "stream",
     "text": [
      "Race\n",
      "White       1452\n",
      "Black       1185\n",
      "Hispanic      88\n",
      "Other         56\n",
      "Asian         27\n",
      "Native         3\n",
      "Name: count, dtype: int64\n"
     ]
    }
   ],
   "source": [
    "# Racial disparities in convictions\n",
    "replace_map = {\n",
    "    'Black(Non-Hispanic)': 'Black',\n",
    "    'Hispanic': 'Hispanic',\n",
    "    'White Caucasian(Non-Hispanic)': 'White',\n",
    "    'MISSING': 'Other',\n",
    "    'Asian Or Pacific Islander': 'Asian',\n",
    "    'Black (Non-Hispanic)': 'Black',\n",
    "    'White Caucasian (Non-Hispanic)': 'White',\n",
    "    'Other(Includes Not Applicable.. Unknown)': 'Other',\n",
    "    'Other (Includes Not Applicable.. Unknown)': 'Other',\n",
    "    'Black': 'Black',\n",
    "    'White': 'White',\n",
    "    'Unknown (Includes Not Applicable.. Unknown)': 'Other',\n",
    "    'American Indian': 'Native',\n",
    "    'Unknown': 'Other',\n",
    "    'Asian or Pacific Islander': 'Asian',\n",
    "    'American Indian Or Alaskan Native': 'Native'\n",
    "}\n",
    "\n",
    "df['Race'] = df['Race'].replace(replace_map)\n",
    "print(df['Race'].value_counts())\n"
   ]
  },
  {
   "cell_type": "code",
   "execution_count": 15,
   "metadata": {},
   "outputs": [],
   "source": [
    "# Convictions by race and code section\n",
    "conv_race = df[df['convicted']].groupby(['CodeSection', 'Race']).size().unstack(fill_value=0).reset_index()\n",
    "conv_race['total'] = conv_race.sum(axis=1, numeric_only=True)\n",
    "conv_race = conv_race[conv_race['total'] > 50]\n"
   ]
  },
  {
   "cell_type": "code",
   "execution_count": 16,
   "metadata": {},
   "outputs": [
    {
     "name": "stdout",
     "output_type": "stream",
     "text": [
      "Race CodeSection  black_pct  white_pct\n",
      "220   B.46.2-301   0.547059   0.394118\n",
      "215   A.46.2-862   0.377358   0.490566\n",
      "228   C.46.2-862   0.256098   0.658537\n",
      "201   A.18.2-266   0.224138   0.741379\n",
      "166     46.2-300   0.204819   0.566265\n"
     ]
    }
   ],
   "source": [
    "conv_race['black_pct'] = conv_race['Black'] / conv_race['total']\n",
    "conv_race['white_pct'] = conv_race['White'] / conv_race['total']\n",
    "conv_race = conv_race.sort_values('black_pct', ascending=False)\n",
    "print(conv_race[['CodeSection', 'black_pct', 'white_pct']].head(15))\n"
   ]
  },
  {
   "cell_type": "code",
   "execution_count": 17,
   "metadata": {},
   "outputs": [],
   "source": [
    "# Racial disparities by locality (fips)\n",
    "locality_race = df[df['convicted']].groupby(['fips', 'Race']).size().unstack(fill_value=0).reset_index()\n",
    "locality_race['total'] = locality_race.sum(axis=1)\n",
    "locality_race = locality_race[locality_race['total'] > 50]"
   ]
  },
  {
   "cell_type": "code",
   "execution_count": 18,
   "metadata": {},
   "outputs": [
    {
     "name": "stdout",
     "output_type": "stream",
     "text": [
      "Race  fips  black_pct  white_pct\n",
      "13      31   0.418182   0.018182\n",
      "37      87   0.276730   0.157233\n",
      "17      41   0.256098   0.195122\n",
      "24      59   0.201183   0.372781\n",
      "22      53   0.181818   0.015152\n",
      "47     111   0.165414   0.000000\n",
      "25      61   0.129032   0.182796\n",
      "36      85   0.094340   0.103774\n",
      "72     179   0.080569   0.066351\n",
      "35      83   0.077778   0.000000\n",
      "34      81   0.070796   0.185841\n",
      "19      47   0.058824   0.019608\n",
      "62     153   0.055300   0.230415\n",
      "103    730   0.040576   0.003927\n",
      "49     117   0.039370   0.039370\n"
     ]
    }
   ],
   "source": [
    "locality_race['black_pct'] = locality_race['Black'] / locality_race['total']\n",
    "locality_race['white_pct'] = locality_race['White'] / locality_race['total']\n",
    "locality_race = locality_race.sort_values('black_pct', ascending=False)\n",
    "print(locality_race[['fips', 'black_pct', 'white_pct']].head(15))"
   ]
  }
 ],
 "metadata": {
  "kernelspec": {
   "display_name": "myenv",
   "language": "python",
   "name": "python3"
  },
  "language_info": {
   "codemirror_mode": {
    "name": "ipython",
    "version": 3
   },
   "file_extension": ".py",
   "mimetype": "text/x-python",
   "name": "python",
   "nbconvert_exporter": "python",
   "pygments_lexer": "ipython3",
   "version": "3.11.9"
  }
 },
 "nbformat": 4,
 "nbformat_minor": 2
}
